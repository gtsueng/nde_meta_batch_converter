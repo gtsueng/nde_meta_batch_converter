{
 "cells": [
  {
   "cell_type": "markdown",
   "id": "ea32c390",
   "metadata": {},
   "source": [
    "## Metadata spreadsheet batch converter\n",
    "\n",
    "This notebook converts metadata from a multi-tabbed spreadsheet into a json files for upload into the DDE\n",
    "\n",
    "The tabbed sheets available in the spreadsheet are as follows:\n",
    "- resource_base\n",
    "- funding\n",
    "- collectionSize\n",
    "- related\n",
    "- author\n",
    "- definedTerms\n",
    "- distribution\n",
    "\n",
    "All sheets use the url field as the index/linking field\n",
    "\n",
    "Notes:\n",
    "* resource_base: contains various metadata properties and their expected values. For citation.pmid, a helper function should be used to pull the citation name based on the pmid so that it will be able to pass the schema validation\n",
    "* funding: Note a single grant ID may be associated with multiple funding organizations. Convert 'type' to '@type'\n",
    "* related: relationship properties and their expected objects. Convert 'type' to '@type'\n",
    "* definedTerm: save only the urls to a list for the DDE\n",
    "\n",
    "How it works: \n",
    "Every sheet except for the resource_base is converted into a dictionary where the key is the url, and the value is either an array of objects (funding, collectionSize, author) or a dictionary with additional objects (related, definedTerm)\n",
    "The resource_base is converted into a base dictionary, and additional objects are added to the base dictionary using the url\n",
    "The json records are then dumped into a batch_file for upload\n"
   ]
  },
  {
   "cell_type": "code",
   "execution_count": 240,
   "id": "dec188d9",
   "metadata": {},
   "outputs": [],
   "source": [
    "import os\n",
    "import pandas as pd\n",
    "import json\n",
    "from datetime import datetime\n",
    "from Bio import Entrez\n",
    "from Bio import Medline\n",
    "import requests\n",
    "from math import isnan"
   ]
  },
  {
   "cell_type": "code",
   "execution_count": 45,
   "id": "862755e5",
   "metadata": {},
   "outputs": [],
   "source": [
    "Entrez.email = \"your email here\""
   ]
  },
  {
   "cell_type": "code",
   "execution_count": 259,
   "id": "1b42b8f5",
   "metadata": {},
   "outputs": [],
   "source": [
    "script_path = os.getcwd()\n",
    "parent_path = os.path.abspath(os.path.join(script_path, os.pardir))\n",
    "data_path = os.path.join(script_path,'data')\n",
    "filelist = os.listdir(data_path)\n",
    "result_path = os.path.join(parent_path,'nde-metadata-corrections','metadata_for_DDE','resourceCatalogs')"
   ]
  },
  {
   "cell_type": "code",
   "execution_count": 31,
   "id": "353eda50",
   "metadata": {},
   "outputs": [
    {
     "name": "stdout",
     "output_type": "stream",
     "text": [
      "C:\\Users\\gtsueng\\Anaconda3\\envs\\nde\n",
      "['2024_05_13_RepoMetaCuration.xlsx']\n"
     ]
    }
   ],
   "source": [
    "print(parent_path)\n",
    "print(filelist)"
   ]
  },
  {
   "cell_type": "code",
   "execution_count": 250,
   "id": "06c02fef",
   "metadata": {},
   "outputs": [],
   "source": [
    "def clean_rawdf(df_raw):\n",
    "    df = df_raw.fillna(-1)\n",
    "    if 'pmid' in df.columns.values.tolist():\n",
    "        df['pmid'] = df_related['pmid'].astype(int)\n",
    "    df.rename(columns={'type':'@type'}, inplace=True)\n",
    "    return df\n",
    "\n",
    "\n",
    "def clean_nones(a_dict):\n",
    "    for k,v in list(a_dict.items()):\n",
    "        if v == -1:\n",
    "            del a_dict[k]\n",
    "        if v == \"None\":\n",
    "            del a_dict[k]\n",
    "        if v == None:\n",
    "            del a_dict[k]\n",
    "        if not isinstance(v,str) and not isinstance(v,dict) and not isinstance(v,list):\n",
    "            if isnan(v):\n",
    "                del a_dict[k]\n",
    "    return a_dict\n",
    "\n",
    "\n",
    "def clean_dict_array(dict_array):\n",
    "    for eachdict in dict_array:\n",
    "        eachdict = clean_nones(eachdict)\n",
    "    return dict_array"
   ]
  },
  {
   "cell_type": "markdown",
   "id": "281752cc",
   "metadata": {},
   "source": [
    "### Process the resource_base sheet"
   ]
  },
  {
   "cell_type": "code",
   "execution_count": 228,
   "id": "7942d726",
   "metadata": {},
   "outputs": [],
   "source": [
    "def add_date(df):\n",
    "    today = datetime.now()\n",
    "    df['date'] = today.strftime(\"%Y-%m-%d\")\n",
    "    return df\n",
    "\n",
    "def format_date(datefield):\n",
    "    if isinstance(datefield,str)==True:\n",
    "        cleandate = datefield\n",
    "    if isinstance(datefield,datetime)==True:\n",
    "        cleandate = datefield.strftime(\"%Y-%m-%d\")\n",
    "    return cleandate\n",
    "\n",
    "def get_pmids(citation_field):\n",
    "    citation_array = []\n",
    "    clean_citations = []\n",
    "    tmp_citations = citation_field.replace('[','').replace(']','')\n",
    "    if ',' in tmp_citations:\n",
    "        clean_citations.extend(tmp_citations.split(','))\n",
    "    else:\n",
    "        clean_citations.append(tmp_citations)\n",
    "    clean_citations = list(set(clean_citations))\n",
    "    for eachpmid in clean_citations:\n",
    "        handle = Entrez.efetch(db=\"pubmed\", id=eachpmid, rettype=\"medline\", retmode=\"text\")\n",
    "        records = Medline.parse(handle) ##parses pubmed entry for that ID and records the author\n",
    "        for record in records:\n",
    "            titles = record.get(\"TI\",\"?\") #writes the record to a list called MH \n",
    "            citation_array.append({'@type':'ScholarlyArticle',\n",
    "                                   'name':titles,\n",
    "                                   'pmid':eachpmid})\n",
    "    return citation_array\n",
    "\n",
    "def format_language(language_field):\n",
    "    language_array = []\n",
    "    if '[' in language_field:\n",
    "        tmp_lang = language_field.replace('[','').replace(']','')\n",
    "    else:\n",
    "        tmp_lang = language_field\n",
    "    if ',' in tmp_lang:\n",
    "        clean_lang = tmp_lang.split(',')\n",
    "        for eachlang in clean_lang:\n",
    "            language_array.append({'@type': 'Language','name':eachlang})\n",
    "    else:\n",
    "        language_array.append({'@type': 'Language','name':tmp_lang})\n",
    "\n",
    "    return language_array\n",
    "\n",
    "def add_type(df):\n",
    "    df['@type'] = 'nde:ResourceCatalog'\n",
    "    return df\n",
    "\n",
    "def run_quick_clean(df):\n",
    "    ## fill the na's\n",
    "    df = df.fillna(\"None\")\n",
    "    ## format the date fields\n",
    "    dateprops = ['date','dateModified','dateCreated','datePublished']\n",
    "    for eachprop in dateprops:\n",
    "        if eachprop in list(df.columns.values):\n",
    "            df[eachprop] = df.apply(lambda row: format_date(row[eachprop]), axis=1)\n",
    "    df.drop('License type',axis=1,inplace=True)\n",
    "    ## clean up the language field\n",
    "    df['inLanguage'] = df.apply(lambda row: format_language(row['inLanguage']), axis=1)\n",
    "    ## clean up the citation field\n",
    "    df['citation pmid'] = df.apply(lambda row: get_pmids(row['citation pmid']), axis=1)\n",
    "    df.drop('citation pmid', axis=1, inplace=True)\n",
    "    return df"
   ]
  },
  {
   "cell_type": "code",
   "execution_count": 99,
   "id": "ce00ffd7",
   "metadata": {},
   "outputs": [
    {
     "name": "stdout",
     "output_type": "stream",
     "text": [
      "                                                name  \\\n",
      "0  Database of Antimicrobial Activity and Structu...   \n",
      "1                      Electron Microscopy Data Bank   \n",
      "\n",
      "                           url                   identifier alternateName  \\\n",
      "0      https://dbaasp.org/home      https://dbaasp.org/home        DBAASP   \n",
      "1  https://www.ebi.ac.uk/emdb/  https://www.ebi.ac.uk/emdb/          EMDB   \n",
      "\n",
      "                                             license conditionsOfAccess  \\\n",
      "0    https://creativecommons.org/licenses/by-nc/4.0/               Open   \n",
      "1  https://creativecommons.org/publicdomain/zero/...               Open   \n",
      "\n",
      "                                           usageInfo  \\\n",
      "0  https://dbaasp.org/DBAASP_Terms_And_Conditions...   \n",
      "1  https://www.ebi.ac.uk/emdb/documentation/polic...   \n",
      "\n",
      "                                            abstract  \\\n",
      "0  DBAASP is a NIAID supported IID repository tha...   \n",
      "1  EMDB is a basic science repository that includ...   \n",
      "\n",
      "                                         description collectionType  hasAPI  \\\n",
      "0  The Database of Antimicrobial Activity and Str...       Database    True   \n",
      "1  The Electron Microscopy Data Bank (EMDB) is a ...       Database    True   \n",
      "\n",
      "    hasDownload  isAccessibleForFree  \\\n",
      "0  Record-level                 True   \n",
      "1   All content                 True   \n",
      "\n",
      "                                   inLanguage version          genre  \\\n",
      "0  [{'@type': 'Language', 'name': 'English'}]    -1.0            IID   \n",
      "1  [{'@type': 'Language', 'name': 'English'}]    -1.0  basic science   \n",
      "\n",
      "  dateModified dateCreated datePublished                @type  \n",
      "0         None  2014-04-14          None  nde:ResourceCatalog  \n",
      "1   2024-05-08        None    2013-04-02  nde:ResourceCatalog  \n"
     ]
    }
   ],
   "source": [
    "filepath = os.path.join(data_path,filelist[0])\n",
    "df_base = pd.read_excel(filepath, 'resource_base', engine='openpyxl')\n",
    "df_clean = add_type(run_quick_clean(df_base))\n",
    "#print(df_samples.head(n=2))\n",
    "#print(df_samples.iloc[0]['citation pmid'])\n",
    "print(df_clean.head(n=2))"
   ]
  },
  {
   "cell_type": "markdown",
   "id": "e1f499d5",
   "metadata": {},
   "source": [
    "### process the funding sheet\n"
   ]
  },
  {
   "cell_type": "code",
   "execution_count": 237,
   "id": "249bbbc1",
   "metadata": {},
   "outputs": [],
   "source": [
    "def process_single_funder(row):\n",
    "    funder_object = {'@type':row['funder.@type'],\n",
    "                     'name':row['funder.name'],\n",
    "                     'alternateName':row['funder.alternateName'],\n",
    "                     'parentOrganization':row['funder.parentOrganization']\n",
    "                    }\n",
    "    funder_object = clean_nones(funder_object)\n",
    "    funding_object = {'@type':row['type'],\n",
    "                      'identifier': row['identifier'],\n",
    "                      'funder':funder_object\n",
    "                     }\n",
    "    return funding_object\n",
    "\n",
    "def process_multi_funders(df_funding, multi_funder_ids):\n",
    "    funder_array = []\n",
    "    for eachid in multi_funder_ids:\n",
    "        tmpdf = df_funding.loc[df_funding['identifier']==eachid]\n",
    "        cleandf = tmpdf[['funder.@type','funder.name','funder.alternateName','funder.parentOrganization']].copy()\n",
    "        cleandf.rename(columns = {'funder.@type':'@type',\n",
    "                                'funder.name':'name',\n",
    "                                'funder.alternateName':'alternateName',\n",
    "                                'funder.parentOrganization':'parentOrganization'}, inplace=True)\n",
    "        cleandf.fillna(-1,inplace=True)\n",
    "        funderlist = cleandf.to_dict(orient='records')\n",
    "        funderlist = clean_dict_array(funderlist)\n",
    "        funder_array.append({'url':tmpdf.iloc[0]['url'],'temp':{'@type':'MonetaryGrant','identifier':eachid,'funder':funderlist}})\n",
    "        funder_df = pd.DataFrame(funder_array)\n",
    "    return funder_df"
   ]
  },
  {
   "cell_type": "code",
   "execution_count": 238,
   "id": "ab1c393c",
   "metadata": {},
   "outputs": [],
   "source": [
    "def generate_funding_dict(df_funding):\n",
    "    funding_dict = {}\n",
    "    funding_grouped = df_funding.groupby(['url','identifier']).size().reset_index(name='counts')\n",
    "    multi_funder_ids = funding_grouped.loc[funding_grouped['counts']>1]['identifier'].unique().tolist()\n",
    "    single_funder_ids = funding_grouped.loc[funding_grouped['counts']==1]['identifier'].unique().tolist()\n",
    "    single_funders = df_funding.loc[df_funding['identifier'].isin(single_funder_ids)].copy()\n",
    "    urllist = df_funding['url'].unique().tolist()\n",
    "    single_funders['temp'] = single_funders.apply(lambda row: process_single_funder(row), axis=1)\n",
    "    funder_array = process_multi_funders(df_funding, multi_funder_ids)\n",
    "    for eachurl in urllist:\n",
    "        funding_array = []\n",
    "        ## get all single funding objects and add to array\n",
    "        clean_singles = single_funders['temp'].loc[single_funders['url']==eachurl].tolist()\n",
    "        ## add any multi funding objects to the array\n",
    "        clean_multi= funder_array['temp'].loc[funder_array['url']==eachurl].tolist()\n",
    "        clean_singles.extend(clean_multi)\n",
    "        ## add the funding array to the funding_dict\n",
    "        funding_dict[eachurl]=clean_singles    \n",
    "    return funding_dict"
   ]
  },
  {
   "cell_type": "code",
   "execution_count": 178,
   "id": "4f097e73",
   "metadata": {},
   "outputs": [
    {
     "name": "stdout",
     "output_type": "stream",
     "text": [
      "[{'@type': 'MonetaryGrant', 'identifier': 'HHSN316201300006W', 'funder': {'@type': 'Organization', 'name': 'National Institute of Allergy and Infectious Diseases', 'alternateName': 'NIAID', 'parentOrganization': 'NIH'}}, {'@type': 'MonetaryGrant', 'identifier': 'HHSN27200002', 'funder': {'@type': 'Organization', 'name': 'National Institute of Allergy and Infectious Diseases', 'alternateName': 'NIAID', 'parentOrganization': 'NIH'}}]\n"
     ]
    }
   ],
   "source": [
    "df_funding = pd.read_excel(filepath, 'funding', engine='openpyxl')\n",
    "#print(single_funders.head(n=2))\n",
    "funding_dict = generate_funding_dict(df_funding)\n",
    "print(funding_dict['https://dbaasp.org/home'])"
   ]
  },
  {
   "cell_type": "markdown",
   "id": "9de64229",
   "metadata": {},
   "source": [
    "### process collection_size "
   ]
  },
  {
   "cell_type": "code",
   "execution_count": 169,
   "id": "8d05422d",
   "metadata": {},
   "outputs": [],
   "source": [
    "def create_collection_dict(df_collection):\n",
    "    collection_dict = {}\n",
    "    url_list = df_collection['url'].unique().tolist()\n",
    "    df_collection['@type']='PropertyValue'\n",
    "    for eachurl in url_list:\n",
    "        tmpdf = df_collection.loc[df_collection['url']==eachurl].copy()\n",
    "        tmpdf.drop('url',inplace=True,axis=1)\n",
    "        tmp_array = tmpdf.to_dict(orient='records')\n",
    "        collection_dict[eachurl] = clean_dict_array(tmp_array)\n",
    "    return collection_dict"
   ]
  },
  {
   "cell_type": "code",
   "execution_count": 175,
   "id": "c5cd1c7d",
   "metadata": {},
   "outputs": [
    {
     "name": "stdout",
     "output_type": "stream",
     "text": [
      "[{'minValue': 20693, 'unitText': 'monomer', '@type': 'PropertyValue'}, {'minValue': 339, 'unitText': 'multimer', '@type': 'PropertyValue'}, {'minValue': 235, 'unitText': 'multi-peptide', '@type': 'PropertyValue'}, {'minValue': 678, 'unitText': 'records with synergistic activities', '@type': 'PropertyValue'}]\n"
     ]
    }
   ],
   "source": [
    "df_collection_raw = pd.read_excel(filepath, 'collectionSize', engine='openpyxl')\n",
    "df_collection = clean_rawdf(df_collection_raw)\n",
    "collection_dict = create_collection_dict(df_collection)\n",
    "print(collection_dict['https://dbaasp.org/home'])"
   ]
  },
  {
   "cell_type": "markdown",
   "id": "84841e8a",
   "metadata": {},
   "source": [
    "### process related"
   ]
  },
  {
   "cell_type": "code",
   "execution_count": 160,
   "id": "21738e20",
   "metadata": {},
   "outputs": [],
   "source": [
    "def handle_urls(df):\n",
    "    url_df = df.loc[df['@type']=='URL'].copy()\n",
    "    url_list = url_df['url'].unique().tolist()\n",
    "    return url_list\n",
    "\n",
    "\n",
    "def create_related_dict(df_related):\n",
    "    related_dict = {}\n",
    "    url_list = df_related['url'].unique().tolist()\n",
    "    for eachurl in url_list:\n",
    "        prop_dict = {}\n",
    "        tmpdf = df_related.loc[df_related['url']==eachurl].copy()\n",
    "        tmpdf.drop('url', inplace=True, axis = 1)\n",
    "        tmpdf.rename(columns={'prop.url':'url'},inplace=True)\n",
    "        proplist = tmpdf['property'].tolist()\n",
    "        for eachprop in proplist:\n",
    "            tmpdf2 = tmpdf.loc[tmpdf['property']==eachprop].copy()\n",
    "            if 'URL' in tmpdf2['@type'].tolist():\n",
    "                tmp_array = handle_urls(tmpdf2)\n",
    "            else:\n",
    "                tmpdf2.drop('property', inplace=True, axis=1)\n",
    "                tmp_array = tmpdf2.to_dict(orient='records')\n",
    "                tmp_array = clean_dict_array(tmp_array)\n",
    "            prop_dict[eachprop] = tmp_array\n",
    "        related_dict[eachurl]=prop_dict\n",
    "    return related_dict\n",
    "        "
   ]
  },
  {
   "cell_type": "code",
   "execution_count": 161,
   "id": "e2046b64",
   "metadata": {},
   "outputs": [
    {
     "name": "stdout",
     "output_type": "stream",
     "text": [
      "{'isBasisFor': [{'@type': 'ComputationalTool', 'name': 'ProteoMapper Online', 'url': 'https://peptideatlas.org/map/', 'description': 'A tool for mapping a peptide sequence or list of sequences to PeptideAtlas'}], 'hasPart': [{'@type': 'DataCatalog', 'name': 'Tiered Human Integrated Search Proteome', 'url': 'https://peptideatlas.org/thisp/', 'description': 'In order to provide human proteomics MS/MS search databases that are well defined, comprehensive, and frequently updated, we have developed an automated system that integrates all of major sources of human protein sequences into a set of search databases. These databases are tiered into several levels of complexity from which researchers may choose depending on the goal of the experiment and the data processing resources available.'}], 'sameAs': ['https://registry.identifiers.org/registry/peptideatlas', 'https://www.wikidata.org/wiki/Q24884023'], 'sdPublisher': [{'@type': 'ResourceCatalog', 'name': 'Fairsharing.org', 'url': 'https://fairsharing.org/FAIRsharing.dvyrsz'}]}\n"
     ]
    }
   ],
   "source": [
    "df_related_raw = pd.read_excel(filepath, 'related', engine='openpyxl')\n",
    "df_related = clean_rawdf(df_related_raw)\n",
    "#print(df_related.head(n=2))\n",
    "related_dict = create_related_dict(df_related)\n",
    "print(related_dict['http://www.peptideatlas.org/'])"
   ]
  },
  {
   "cell_type": "markdown",
   "id": "b3aeec8a",
   "metadata": {},
   "source": [
    "### Process the author list"
   ]
  },
  {
   "cell_type": "code",
   "execution_count": 197,
   "id": "889e06ca",
   "metadata": {},
   "outputs": [],
   "source": [
    "def process_orgs(df):\n",
    "    org_df = df.copy()\n",
    "    org_df.drop(['givenName','familyName','affiliation.name'],inplace=True,axis=1)\n",
    "    org_array = org_df.to_dict(orient='records')\n",
    "    org_array = clean_dict_array(org_array)\n",
    "    return org_array\n",
    "\n",
    "def process_affiliations(an_affiliation):\n",
    "    if an_affiliation != -1:\n",
    "        tmpdict = {'@type':'Organization', 'name':an_affiliation}\n",
    "        return tmpdict\n",
    "    else:\n",
    "        return -1\n",
    "\n",
    "def process_ppl(df):\n",
    "    ppl_df = df.copy()\n",
    "    ppl_df['affiliation'] = ppl_df.apply(lambda row: process_affiliations(row['affiliation.name']),axis=1)\n",
    "    ppl_df.drop(['parentOrganization','affiliation.name'],inplace=True,axis=1)\n",
    "    ppl_array = ppl_df.to_dict(orient='records')\n",
    "    ppl_array = clean_dict_array(ppl_array)\n",
    "    return ppl_array"
   ]
  },
  {
   "cell_type": "code",
   "execution_count": 198,
   "id": "7c1d20e5",
   "metadata": {},
   "outputs": [],
   "source": [
    "def create_author_dict(df_author):\n",
    "    author_dict = {}\n",
    "    urlist = df_author['url'].unique().tolist()\n",
    "    for eachurl in urlist:\n",
    "        author_array = []\n",
    "        tmpdf = df_author.loc[df_author['url']==eachurl].copy()\n",
    "        tmpdf.drop('url',inplace=True,axis=1)\n",
    "        if 'Organization' in tmpdf['@type'].tolist():\n",
    "            orgdf = tmpdf.loc[tmpdf['@type']=='Organization']\n",
    "            org_array = process_orgs(orgdf)\n",
    "            author_array.extend(org_array)\n",
    "        if 'Person' in tmpdf['@type'].tolist():\n",
    "            ppldf = tmpdf.loc[tmpdf['@type']=='Person']\n",
    "            ppl_array = process_ppl(ppldf)\n",
    "            author_array.extend(ppl_array)\n",
    "        author_dict[eachurl] = author_array\n",
    "    return author_dict"
   ]
  },
  {
   "cell_type": "code",
   "execution_count": 199,
   "id": "6b05dfc3",
   "metadata": {},
   "outputs": [
    {
     "name": "stdout",
     "output_type": "stream",
     "text": [
      "[{'@type': 'Person', 'name': 'Malak Pirtskhalava', 'givenName': 'Malak', 'familyName': 'Pirtskhalava', 'affiliation': {'@type': 'Organization', 'name': 'Ivane Beritashvili Center of Experimental Biomedicine'}}, {'@type': 'Person', 'name': 'Anthony A Amstrong', 'givenName': 'Anthony', 'familyName': 'Amstrong', 'affiliation': {'@type': 'Organization', 'name': 'Office of Cyber Infrastructure and Computational Biology'}}, {'@type': 'Person', 'name': 'Maia Grigolava', 'givenName': 'Maia', 'familyName': 'Grigolava', 'affiliation': {'@type': 'Organization', 'name': 'Ivane Beritashvili Center of Experimental Biomedicine'}}, {'@type': 'Person', 'name': 'Mindia Chubinidze', 'givenName': 'Mindia', 'familyName': 'Chubinidze', 'affiliation': {'@type': 'Organization', 'name': 'Ivane Beritashvili Center of Experimental Biomedicine'}}, {'@type': 'Person', 'name': 'Evgenia Alimbarashvili', 'givenName': 'Evgenia', 'familyName': 'Alimbarashvili', 'affiliation': {'@type': 'Organization', 'name': 'Ivane Beritashvili Center of Experimental Biomedicine'}}, {'@type': 'Person', 'name': 'Boris Vishnepolsky', 'givenName': 'Boris', 'familyName': 'Vishnepolsky', 'affiliation': {'@type': 'Organization', 'name': 'Ivane Beritashvili Center of Experimental Biomedicine'}}, {'@type': 'Person', 'name': 'Andrei Gabrielian', 'givenName': 'Andrei', 'familyName': 'Gabrielian', 'affiliation': {'@type': 'Organization', 'name': 'Office of Cyber Infrastructure and Computational Biology'}}, {'@type': 'Person', 'name': 'Alex Rosenthal', 'givenName': 'Alex', 'familyName': 'Rosenthal', 'affiliation': {'@type': 'Organization', 'name': 'Office of Cyber Infrastructure and Computational Biology'}}, {'@type': 'Person', 'name': 'Darrell E Hurt', 'givenName': 'Darrell', 'familyName': 'Hurt', 'affiliation': {'@type': 'Organization', 'name': 'Office of Cyber Infrastructure and Computational Biology'}}, {'@type': 'Person', 'name': 'Michael Tartakovsky', 'givenName': 'Michael', 'familyName': 'Tartakovsky', 'affiliation': {'@type': 'Organization', 'name': 'Office of Cyber Infrastructure and Computational Biology'}}]\n"
     ]
    }
   ],
   "source": [
    "df_author_raw = pd.read_excel(filepath, 'author', engine='openpyxl')\n",
    "df_author = clean_rawdf(df_author_raw)\n",
    "author_dict = create_author_dict(df_author)\n",
    "print(author_dict['https://dbaasp.org/home'])\n",
    "#print(df_author.head(n=2))"
   ]
  },
  {
   "cell_type": "markdown",
   "id": "9d3ed15d",
   "metadata": {},
   "source": [
    "### Process the definedTerms sheet"
   ]
  },
  {
   "cell_type": "code",
   "execution_count": 205,
   "id": "00bae570",
   "metadata": {},
   "outputs": [],
   "source": [
    "def generate_dt_dict(df_dt):\n",
    "    dfdt_dict={}\n",
    "    urlist = df_dt['url'].tolist()\n",
    "    for eachurl in urlist:\n",
    "        prop_dict={}\n",
    "        tmpdf = df_dt.loc[df_dt['url']==eachurl].copy()\n",
    "        tmpdf.drop('url',inplace=True,axis=1)\n",
    "        proplist = tmpdf['property'].unique().tolist()\n",
    "        for eachprop in proplist:\n",
    "            prop_dict[eachprop]=tmpdf.loc[tmpdf['property']==eachprop]['prop.url'].unique().tolist()\n",
    "        dfdt_dict[eachurl]=prop_dict\n",
    "    return dfdt_dict"
   ]
  },
  {
   "cell_type": "code",
   "execution_count": 206,
   "id": "24310236",
   "metadata": {},
   "outputs": [
    {
     "name": "stdout",
     "output_type": "stream",
     "text": [
      "{'species': ['http://purl.obolibrary.org/obo/NCBITaxon_1'], 'topicCategory': ['http://edamontology.org/topic_2814', 'http://edamontology.org/topic_0209', 'http://edamontology.org/topic_3301'], 'healthCondition': ['http://purl.obolibrary.org/obo/MONDO_0005550'], 'infectiousAgent': ['http://purl.obolibrary.org/obo/NCBITaxon_2', 'http://purl.obolibrary.org/obo/NCBITaxon_10239', 'http://purl.obolibrary.org/obo/NCBITaxon_4751'], 'measurementTechnique': ['http://purl.obolibrary.org/obo/NCIT_C128985', 'http://www.bioassayontology.org/bao#BAO_0002993', 'http://www.bioassayontology.org/bao#BAO_0002216'], 'variableMeasured': ['http://www.bioassayontology.org/bao#BAO_0002146', 'http://purl.obolibrary.org/obo/NCIT_C37965', 'http://www.ebi.ac.uk/efo/EFO_0006952', 'http://purl.obolibrary.org/obo/NCIT_C13407']}\n"
     ]
    }
   ],
   "source": [
    "df_definedTerm_raw = pd.read_excel(filepath, 'definedTerms', engine='openpyxl')\n",
    "df_dt = clean_rawdf(df_definedTerm_raw)\n",
    "dfdt_dict = generate_dt_dict(df_dt)\n",
    "#print(df_dt.head(n=2))\n",
    "print(dfdt_dict['https://dbaasp.org/home'])"
   ]
  },
  {
   "cell_type": "markdown",
   "id": "033bb56f",
   "metadata": {},
   "source": [
    "### Process the distribution sheet"
   ]
  },
  {
   "cell_type": "code",
   "execution_count": 215,
   "id": "db4a66ad",
   "metadata": {},
   "outputs": [],
   "source": [
    "def create_distro_dict(df):\n",
    "    distro_dict = {}\n",
    "    df['dateModified'] = df.apply(lambda row: format_date(row['dateModified']),axis=1)\n",
    "    urlist = df['url'].unique().tolist()\n",
    "    for eachurl in urlist:\n",
    "        tmpdf = df.loc[df['url']==eachurl].copy()\n",
    "        tmpdf.drop('url',inplace=True,axis=1)\n",
    "        tmp_array = tmpdf.to_dict(orient='records')\n",
    "        tmp_array = clean_dict_array(tmp_array)\n",
    "        distro_dict[eachurl]=tmp_array\n",
    "    return distro_dict"
   ]
  },
  {
   "cell_type": "code",
   "execution_count": 216,
   "id": "2861e82a",
   "metadata": {},
   "outputs": [
    {
     "name": "stdout",
     "output_type": "stream",
     "text": [
      "[{'@type': 'DataDownload', 'contentUrl': 'https://peptideatlas.org/builds/', 'dateModified': '2019-02-01'}]\n"
     ]
    }
   ],
   "source": [
    "df_distro_raw = pd.read_excel(filepath, 'distribution', engine='openpyxl')\n",
    "df_distro = clean_rawdf(df_distro_raw)\n",
    "distro_dict = create_distro_dict(df_distro)\n",
    "\n",
    "print(distro_dict['http://www.peptideatlas.org/'])\n",
    "#print(df_distro.head(n=2))"
   ]
  },
  {
   "cell_type": "markdown",
   "id": "744e99f0",
   "metadata": {},
   "source": [
    "### Assemble the json records"
   ]
  },
  {
   "cell_type": "code",
   "execution_count": 254,
   "id": "71ab4b0a",
   "metadata": {},
   "outputs": [],
   "source": [
    "def process_records(filepath,context_dict):\n",
    "    batchlist = []\n",
    "    df_base = pd.read_excel(filepath, 'resource_base', engine='openpyxl')\n",
    "    df_clean = add_type(run_quick_clean(df_base))\n",
    "    df_funding = pd.read_excel(filepath, 'funding', engine='openpyxl')\n",
    "    funding_dict = generate_funding_dict(df_funding)\n",
    "    df_collection_raw = pd.read_excel(filepath, 'collectionSize', engine='openpyxl')\n",
    "    df_collection = clean_rawdf(df_collection_raw)\n",
    "    collection_dict = create_collection_dict(df_collection)\n",
    "    df_related_raw = pd.read_excel(filepath, 'related', engine='openpyxl')\n",
    "    df_related = clean_rawdf(df_related_raw)\n",
    "    related_dict = create_related_dict(df_related)\n",
    "    df_author_raw = pd.read_excel(filepath, 'author', engine='openpyxl')\n",
    "    df_author = clean_rawdf(df_author_raw)\n",
    "    author_dict = create_author_dict(df_author)\n",
    "    df_definedTerm_raw = pd.read_excel(filepath, 'definedTerms', engine='openpyxl')\n",
    "    df_dt = clean_rawdf(df_definedTerm_raw)\n",
    "    dfdt_dict = generate_dt_dict(df_dt)\n",
    "    df_distro_raw = pd.read_excel(filepath, 'distribution', engine='openpyxl')\n",
    "    df_distro = clean_rawdf(df_distro_raw)\n",
    "    distro_dict = create_distro_dict(df_distro)\n",
    "    base_dict_array = df_clean.to_dict(orient='records')\n",
    "    base_dict_array = clean_dict_array(base_dict_array)\n",
    "    for eachdict in base_dict_array:\n",
    "        url = eachdict['url']\n",
    "        eachdict['@context'] = context_dict\n",
    "        eachdict['funding'] = funding_dict[url]\n",
    "        eachdict['author'] = author_dict[url]\n",
    "        try:\n",
    "            eachdict['collectionSize'] = collection_dict[url]\n",
    "        except:\n",
    "            pass\n",
    "        try:\n",
    "            eachdict['distribution'] = distro_dict[url]\n",
    "        except:\n",
    "            pass\n",
    "        eachdict.update(related_dict[url])\n",
    "        eachdict.update(dfdt_dict[url])\n",
    "        batchlist.append(eachdict)\n",
    "    return batchlist"
   ]
  },
  {
   "cell_type": "code",
   "execution_count": 221,
   "id": "fa6d1de9",
   "metadata": {},
   "outputs": [],
   "source": [
    "context_dict = {\"owl\": \"http://www.w3.org/2002/07/owl#\",\n",
    "                      \"rdf\": \"http://www.w3.org/1999/02/22-rdf-syntax-ns#\",\n",
    "                      \"rdfs\": \"http://www.w3.org/2000/01/rdf-schema#\",\n",
    "                      \"schema\": \"http://schema.org/\",\n",
    "                      \"niaid\": \"https://discovery.biothings.io/view/niaid/\",\n",
    "                      \"nde\": \"https://discovery.biothings.io/view/nde/\"}"
   ]
  },
  {
   "cell_type": "code",
   "execution_count": 261,
   "id": "d30ebf27",
   "metadata": {},
   "outputs": [
    {
     "name": "stdout",
     "output_type": "stream",
     "text": [
      "Database of Antimicrobial Activity and Structure of Peptides\n"
     ]
    }
   ],
   "source": [
    "batchlist = process_records(filepath,context_dict)\n",
    "today = datetime.now()\n",
    "with open(os.path.join(result_path,f'{today.strftime(\"%Y-%m-%d\")}_batch_file.json'),'w') as outfile:\n",
    "    outfile.write(json.dumps(batchlist, indent=4))\n",
    "print(batchlist[0]['name'])"
   ]
  },
  {
   "cell_type": "code",
   "execution_count": 260,
   "id": "51c20e20",
   "metadata": {},
   "outputs": [],
   "source": []
  },
  {
   "cell_type": "code",
   "execution_count": null,
   "id": "d2fb5a05",
   "metadata": {},
   "outputs": [],
   "source": []
  },
  {
   "cell_type": "markdown",
   "id": "3fa1a380",
   "metadata": {},
   "source": [
    "### test functions"
   ]
  },
  {
   "cell_type": "code",
   "execution_count": 226,
   "id": "3bf3bea5",
   "metadata": {},
   "outputs": [
    {
     "name": "stdout",
     "output_type": "stream",
     "text": [
      "{'https://dbaasp.org/home': [{'@type': 'MonetaryGrant', 'identifier': 'HHSN316201300006W', 'funder': {'@type': 'Organization', 'name': 'National Institute of Allergy and Infectious Diseases', 'alternateName': 'NIAID', 'parentOrganization': 'NIH'}}, {'@type': 'MonetaryGrant', 'identifier': 'HHSN27200002', 'funder': {'@type': 'Organization', 'name': 'National Institute of Allergy and Infectious Diseases', 'alternateName': 'NIAID', 'parentOrganization': 'NIH'}}], 'https://www.ebi.ac.uk/emdb/': [{'@type': 'MonetaryGrant', 'identifier': 'BB/P025846/1', 'funder': {'@type': 'Organization', 'name': 'Biotechnology and Biological Sciences Research Council', 'alternateName': 'BBSRC', 'parentOrganization': nan}}, {'@type': 'MonetaryGrant', 'identifier': 'BB/V004247/1', 'funder': {'@type': 'Organization', 'name': 'Biotechnology and Biological Sciences Research Council', 'alternateName': 'BBSRC', 'parentOrganization': nan}}, {'@type': 'MonetaryGrant', 'identifier': '20-BBSRC/NSF-BIO', 'funder': {'@type': 'Organization', 'name': 'Biotechnology and Biological Sciences Research Council', 'alternateName': 'BBSRC', 'parentOrganization': nan}}, {'@type': 'MonetaryGrant', 'identifier': 'BB/W017970/1', 'funder': {'@type': 'Organization', 'name': 'Biotechnology and Biological Sciences Research Council', 'alternateName': 'BBSRC', 'parentOrganization': nan}}, {'@type': 'MonetaryGrant', 'identifier': '23ama121001', 'funder': {'@type': 'Organization', 'name': 'AMED', 'alternateName': nan, 'parentOrganization': nan}}, {'@type': 'MonetaryGrant', 'identifier': 'JPMJND2205', 'funder': {'@type': 'Organization', 'name': 'NBDC', 'alternateName': nan, 'parentOrganization': 'Japan Science and Technology Agency'}}, {'@type': 'MonetaryGrant', 'identifier': 'CORP:DG:3191', 'funder': {'@type': 'Organization', 'name': 'Ministry of Electronics and Information Technology', 'alternateName': nan, 'parentOrganization': nan}}, {'@type': 'MonetaryGrant', 'identifier': 'GM079429', 'funder': {'@type': 'Organization', 'name': 'National Institute of General Medical Sciences', 'alternateName': 'NIGMS', 'parentOrganization': 'NIH'}}, {'@type': 'MonetaryGrant', 'identifier': 'GM109046', 'funder': {'@type': 'Organization', 'name': 'National Institute of General Medical Sciences', 'alternateName': 'NIGMS', 'parentOrganization': 'NIH'}}, {'@type': 'MonetaryGrant', 'identifier': 'GM133198', 'funder': {'@type': 'Organization', 'name': 'National Institute of General Medical Sciences', 'alternateName': 'NIGMS', 'parentOrganization': 'NIH'}}, {'@type': 'MonetaryGrant', 'identifier': 'DBI-1832184', 'funder': {'@type': 'Organization', 'name': 'National Science Foundation', 'alternateName': 'NSF', 'parentOrganization': nan}}, {'@type': 'MonetaryGrant', 'identifier': 'DBI-2019297', 'funder': {'@type': 'Organization', 'name': 'Biotechnology and Biological Sciences Research Council', 'alternateName': 'BBSRC', 'parentOrganization': nan}}, {'@type': 'MonetaryGrant', 'identifier': 'DESC0019749', 'funder': {'@type': 'Organization', 'name': 'U.S. Department of Energy', 'alternateName': 'DOE', 'parentOrganization': nan}}, {'@type': 'MonetaryGrant', 'identifier': '104948/Z/14/Z', 'funder': {'@type': 'Organization', 'name': 'Wellcome Trust', 'alternateName': nan, 'parentOrganization': nan}}, {'@type': 'MonetaryGrant', 'identifier': '212977/Z/18/Z', 'funder': {'@type': 'Organization', 'name': 'Wellcome Trust', 'alternateName': nan, 'parentOrganization': nan}}, {'@type': 'MonetaryGrant', 'identifier': '218303/Z/19/Z', 'funder': {'@type': 'Organization', 'name': 'Wellcome Trust', 'alternateName': nan, 'parentOrganization': nan}}], 'http://www.peptideatlas.org/': [{'@type': 'MonetaryGrant', 'identifier': 'DBI-2324882', 'funder': {'@type': 'Organization', 'name': 'National Science Foundation', 'alternateName': 'NSF', 'parentOrganization': nan}}, {'@type': 'MonetaryGrant', 'identifier': 'DBI-1933311', 'funder': {'@type': 'Organization', 'name': 'National Science Foundation', 'alternateName': 'NSF', 'parentOrganization': nan}}, {'@type': 'MonetaryGrant', 'identifier': 'IOS-1922871', 'funder': {'@type': 'Organization', 'name': 'National Science Foundation', 'alternateName': 'NSF', 'parentOrganization': nan}}, {'@type': 'MonetaryGrant', 'identifier': 'GM148372', 'funder': {'@type': 'Organization', 'name': 'National Institute of General Medical Sciences', 'alternateName': 'NIGMS', 'parentOrganization': 'NIH'}}, {'@type': 'MonetaryGrant', 'identifier': 'GM087221', 'funder': {'@type': 'Organization', 'name': 'National Institute of General Medical Sciences', 'alternateName': 'NIGMS', 'parentOrganization': 'NIH'}}, {'@type': 'MonetaryGrant', 'identifier': 'N01-HV-28179', 'funder': {'@type': 'Organization', 'name': 'National Heart, Lung, and Blood Institute', 'alternateName': 'NHLBI', 'parentOrganization': 'NIH'}}], 'https://www.uniprot.org/': [{'@type': 'MonetaryGrant', 'identifier': 'core funds', 'funder': {'@type': 'Organization', 'name': 'European Molecular Biology Laboratory', 'alternateName': 'EMBL', 'parentOrganization': nan}}, {'@type': 'MonetaryGrant', 'identifier': 'ARUK-NAS2017A-1', 'funder': {'@type': 'Organization', 'name': \"Alzheimer's Research UK\", 'alternateName': 'ARUK', 'parentOrganization': nan}}, {'@type': 'MonetaryGrant', 'identifier': 'BB/T010541/1', 'funder': {'@type': 'Organization', 'name': 'Biotechnology and Biological Sciences Research Council', 'alternateName': 'BBSRC', 'parentOrganization': nan}}, {'@type': 'MonetaryGrant', 'identifier': 'unknown', 'funder': {'@type': 'Organization', 'name': 'State Secretariat for Education, Research and Innovation', 'alternateName': 'SERI', 'parentOrganization': 'Swiss Federal Government'}}, {'@type': 'MonetaryGrant', 'identifier': 'R01GM080646', 'funder': {'@type': 'Organization', 'name': 'National Institute of General Medical Sciences', 'alternateName': 'NIGMS', 'parentOrganization': 'NIH'}}, {'@type': 'MonetaryGrant', 'identifier': 'G08LM010720', 'funder': {'@type': 'Organization', 'name': 'National Library of Medicine', 'alternateName': 'NLM', 'parentOrganization': 'NIH'}}, {'@type': 'MonetaryGrant', 'identifier': 'P20GM103446', 'funder': {'@type': 'Organization', 'name': 'National Institute of General Medical Sciences', 'alternateName': 'NIGMS', 'parentOrganization': 'NIH'}}, {'@type': 'MonetaryGrant', 'identifier': 'DBI-1062520', 'funder': {'@type': 'Organization', 'name': 'and the National Science Foundation', 'alternateName': 'NSF', 'parentOrganization': nan}}, {'@type': 'MonetaryGrant', 'identifier': 'U24HG007822', 'funder': [{'@type': 'Organization', 'name': 'National Eye Institute', 'alternateName': 'NEI', 'parentOrganization': 'NIH'}, {'@type': 'Organization', 'name': 'National Human Genome Research Institute', 'alternateName': 'NHGRI', 'parentOrganization': 'NIH'}, {'@type': 'Organization', 'name': 'National Heart, Lung, and Blood Institute ', 'alternateName': 'NHLBI', 'parentOrganization': 'NIH'}, {'@type': 'Organization', 'name': 'National Institute on Aging', 'alternateName': 'NIA', 'parentOrganization': 'NIH'}, {'@type': 'Organization', 'name': 'National Institute of Allergy and Infectious Diseases', 'alternateName': 'NIAID', 'parentOrganization': 'NIH'}, {'@type': 'Organization', 'name': 'National Institute of Diabetes and Digestive and Kidney Diseases', 'alternateName': 'NIDDK', 'parentOrganization': 'NIH'}, {'@type': 'Organization', 'name': 'National Institute of General Medical Sciences', 'alternateName': 'NIGMS', 'parentOrganization': 'NIH'}, {'@type': 'Organization', 'name': 'National Institute of Mental Health', 'alternateName': 'NIMH', 'parentOrganization': 'NIH'}, {'@type': 'Organization', 'name': 'National Cancer Institute', 'alternateName': 'NCI', 'parentOrganization': 'NIH'}]}]}\n"
     ]
    }
   ],
   "source": [
    "funding_dict = {}\n",
    "funding_grouped = df_funding.groupby(['url','identifier']).size().reset_index(name='counts')\n",
    "multi_funder_ids = funding_grouped.loc[funding_grouped['counts']>1]['identifier'].unique().tolist()\n",
    "single_funder_ids = funding_grouped.loc[funding_grouped['counts']==1]['identifier'].unique().tolist()\n",
    "single_funders = df_funding.loc[df_funding['identifier'].isin(single_funder_ids)].copy()\n",
    "urllist = df_funding['url'].unique().tolist()\n",
    "single_funders['temp'] = single_funders.apply(lambda row: process_single_funder(row), axis=1)\n",
    "funder_array = process_multi_funders(df_funding, multi_funder_ids)\n",
    "for eachurl in urllist:\n",
    "    funding_array = []\n",
    "    ## get all single funding objects and add to array\n",
    "    clean_singles = single_funders['temp'].loc[single_funders['url']==eachurl].tolist()\n",
    "    ## add any multi funding objects to the array\n",
    "    clean_multi= funder_array['temp'].loc[funder_array['url']==eachurl].tolist()\n",
    "    clean_singles.extend(clean_multi)\n",
    "    ## add the funding array to the funding_dict\n",
    "    funding_dict[eachurl]=clean_singles\n",
    "\n",
    "print(funding_dict)"
   ]
  },
  {
   "cell_type": "code",
   "execution_count": null,
   "id": "3db1f863",
   "metadata": {},
   "outputs": [],
   "source": []
  }
 ],
 "metadata": {
  "kernelspec": {
   "display_name": "Python 3 (ipykernel)",
   "language": "python",
   "name": "python3"
  },
  "language_info": {
   "codemirror_mode": {
    "name": "ipython",
    "version": 3
   },
   "file_extension": ".py",
   "mimetype": "text/x-python",
   "name": "python",
   "nbconvert_exporter": "python",
   "pygments_lexer": "ipython3",
   "version": "3.10.10"
  }
 },
 "nbformat": 4,
 "nbformat_minor": 5
}
